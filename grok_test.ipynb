{
 "cells": [
  {
   "cell_type": "code",
   "execution_count": 1,
   "id": "1cf49de9",
   "metadata": {},
   "outputs": [
    {
     "name": "stdout",
     "output_type": "stream",
     "text": [
      "Intel MKL WARNING: Support of Intel(R) Streaming SIMD Extensions 4.2 (Intel(R) SSE4.2) enabled only processors has been deprecated. Intel oneAPI Math Kernel Library 2025.0 will require Intel(R) Advanced Vector Extensions (Intel(R) AVX) instructions.\n",
      "Intel MKL WARNING: Support of Intel(R) Streaming SIMD Extensions 4.2 (Intel(R) SSE4.2) enabled only processors has been deprecated. Intel oneAPI Math Kernel Library 2025.0 will require Intel(R) Advanced Vector Extensions (Intel(R) AVX) instructions.\n"
     ]
    }
   ],
   "source": [
    "from dynamics_functions import *\n",
    "from plots import *"
   ]
  },
  {
   "cell_type": "code",
   "execution_count": 18,
   "id": "8526c76a",
   "metadata": {},
   "outputs": [],
   "source": [
    "def single_plot(a, b, c, sigma, beta, N=100, T=1000, p0=None):\n",
    "    \"\"\"\n",
    "    Run a single associative learning experiment and plot task accuracy over time.\n",
    "\n",
    "    Params\n",
    "    ------\n",
    "    a : float\n",
    "        Parameter controlling influence of new data samples.\n",
    "    b : float\n",
    "        Parameter controlling allowed distribution volatility.\n",
    "    c : float\n",
    "        Parameter controlling expected mutual information.\n",
    "    sigma : float\n",
    "        Controls volatility of true distribution. Higher sigma\n",
    "        means less volatile.\n",
    "    beta : float\n",
    "        Controls uncertainty in true distribution. Higher beta implies\n",
    "        less uncertainty (more biased towards 0 or 1)\n",
    "    N : int\n",
    "        Size of the grid on each side\n",
    "    T : float\n",
    "        Time to run integration\n",
    "    p0 : np array (N x N x 2) or None\n",
    "        Initial distribution, if None then initialize with the uniform\n",
    "        distribution.\n",
    "    \"\"\"\n",
    "    T = int(T)\n",
    "    # Generate true distribution\n",
    "    truth = gen_dist_cond(sigma, beta, N=N)\n",
    "    # Generate 2*T samples from the ground truth\n",
    "    samples = gen_samples_cond(2*T,truth)\n",
    "\n",
    "    # Get results\n",
    "    t,ps,msg = get_dist(samples, a, b, c, p0=p0, N=N, T=T)\n",
    "\n",
    "    # probability of correct classification over time\n",
    "    accuracy = (truth*ps).sum(axis=-1).mean(axis=(1,2))\n",
    "    # train accuracy\n",
    "    train_acc = []\n",
    "    for sample in samples[:T]:\n",
    "        train_acc.append(ps[:,sample[0],sample[1],sample[2]])\n",
    "    train_acc = np.mean(train_acc, axis=0)\n",
    "        \n",
    "\n",
    "    fig = plt.figure(constrained_layout=True, figsize=(2.9,1.7))\n",
    "    axs = fig.subplot_mosaic([['Left', 'TopRight'],['Left', 'BottomRight']],\n",
    "                          gridspec_kw={'width_ratios':[2, 1]})\n",
    "    ax_res = axs['Left']\n",
    "    ax_res.plot(t, accuracy, 'r')\n",
    "    ax_res.plot(t, train_acc, 'b')\n",
    "    ax_res.set_ylim(top=1.0)\n",
    "    ax_res.set_xlabel('Time')\n",
    "    ax_res.set_ylabel('Accuracy')\n",
    "\n",
    "    axs['TopRight'].imshow(truth[:,:,1], cmap='coolwarm',vmin=0, vmax=1, origin='lower')\n",
    "    axs['TopRight'].annotate(\"$P^{*}(1|x)$\", (-0.05,-0.3), xycoords='axes fraction')\n",
    "    axs['TopRight'].set_xticks([])\n",
    "    axs['TopRight'].set_yticks([])\n",
    "\n",
    "    axs['BottomRight'].imshow(ps[-1,:,:,1], cmap='coolwarm',vmin=0, vmax=1, origin='lower')\n",
    "    axs['BottomRight'].annotate(r\"$\\hat P_{T}(1|x)$\", (-0.05,-0.3), xycoords='axes fraction')\n",
    "    axs['BottomRight'].set_xticks([])\n",
    "    axs['BottomRight'].set_yticks([])\n",
    "    \n",
    "    plt.show()\n",
    "    return ps"
   ]
  },
  {
   "cell_type": "code",
   "execution_count": 26,
   "id": "d721ebcb",
   "metadata": {},
   "outputs": [
    {
     "data": {
      "image/png": "[encoded data removed]",
      "text/plain": [
       "<Figure size 290x170 with 3 Axes>"
      ]
     },
     "metadata": {},
     "output_type": "display_data"
    }
   ],
   "source": [
    "ps = single_plot(a=.001, b=0.00001, c=0.01, sigma=20, beta=50, N=100, T=2000, p0=None)"
   ]
  },
  {
   "cell_type": "code",
   "execution_count": null,
   "id": "4f0ca362",
   "metadata": {},
   "outputs": [],
   "source": []
  }
 ],
 "metadata": {
  "kernelspec": {
   "display_name": "Python 3 (ipykernel)",
   "language": "python",
   "name": "python3"
  },
  "language_info": {
   "codemirror_mode": {
    "name": "ipython",
    "version": 3
   },
   "file_extension": ".py",
   "mimetype": "text/x-python",
   "name": "python",
   "nbconvert_exporter": "python",
   "pygments_lexer": "ipython3",
   "version": "3.9.17"
  }
 },
 "nbformat": 4,
 "nbformat_minor": 5
}
